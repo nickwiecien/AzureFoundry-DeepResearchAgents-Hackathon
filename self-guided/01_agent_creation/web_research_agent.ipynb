{
 "cells": [
  {
   "cell_type": "markdown",
   "id": "3e19d6b1",
   "metadata": {},
   "source": [
    "# Web Research Agent with Azure AI Foundry and Bing Grounding Service\n",
    "\n",
    "This notebook demonstrates how to create an Azure AI Foundry agent that performs comprehensive web research using the BingGroundingService tool. The agent is designed to research any topic or question by searching the public internet and providing detailed findings with proper URL citations.\n",
    "\n",
    "**Key Features:**\n",
    "- Uses BingGroundingService for web search capabilities\n",
    "- Performs comprehensive research on any given topic\n",
    "- Provides detailed writeups with key findings\n",
    "- Includes proper URL citations for all sources\n",
    "- Designed for thorough research and fact-checking\n",
    "\n",
    "**Use Cases:**\n",
    "- Market research and competitive analysis\n",
    "- Technology trend analysis\n",
    "- Academic research support\n",
    "- Current events and news research\n",
    "- Product information gathering"
   ]
  },
  {
   "cell_type": "markdown",
   "id": "a56abcca",
   "metadata": {},
   "source": [
    "## Install dependencies (if needed)"
   ]
  },
  {
   "cell_type": "code",
   "execution_count": 6,
   "id": "64a11b33",
   "metadata": {},
   "outputs": [],
   "source": [
    "# !pip install azure-ai-projects azure-identity python-dotenv"
   ]
  },
  {
   "cell_type": "markdown",
   "id": "1530d46e",
   "metadata": {},
   "source": [
    "## Import required packages"
   ]
  },
  {
   "cell_type": "code",
   "execution_count": 7,
   "id": "9488112d",
   "metadata": {},
   "outputs": [
    {
     "data": {
      "text/plain": [
       "True"
      ]
     },
     "execution_count": 7,
     "metadata": {},
     "output_type": "execute_result"
    }
   ],
   "source": [
    "import os\n",
    "from azure.ai.projects import AIProjectClient\n",
    "from azure.identity import DefaultAzureCredential\n",
    "from azure.ai.agents.models import BingGroundingTool\n",
    "from dotenv import load_dotenv\n",
    "\n",
    "# Load environment variables\n",
    "load_dotenv('../../.env', override=True)"
   ]
  },
  {
   "cell_type": "markdown",
   "id": "6bdc83f1",
   "metadata": {},
   "source": [
    "## Create Azure AI Project client"
   ]
  },
  {
   "cell_type": "code",
   "execution_count": 8,
   "id": "ce1fd811",
   "metadata": {},
   "outputs": [],
   "source": [
    "project_client = AIProjectClient(\n",
    "    endpoint=os.environ[\"AZURE_AI_FOUNDRY_ENDPOINT\"],\n",
    "    credential=DefaultAzureCredential(),\n",
    ")"
   ]
  },
  {
   "cell_type": "markdown",
   "id": "1a5c9e00",
   "metadata": {},
   "source": [
    "## Configure the Bing Grounding Service tool"
   ]
  },
  {
   "cell_type": "code",
   "execution_count": 9,
   "id": "7159946c",
   "metadata": {},
   "outputs": [],
   "source": [
    "# Create the Bing grounding tool for web search\n",
    "bing_tool = BingGroundingTool(\n",
    "    connection_id=os.environ.get(\"BING_CONNECTION_ID\")  # Optional: if you have a specific Bing connection\n",
    ")"
   ]
  },
  {
   "cell_type": "markdown",
   "id": "2eb75c36",
   "metadata": {},
   "source": [
    "## Define and create the Web Research Agent"
   ]
  },
  {
   "cell_type": "code",
   "execution_count": 10,
   "id": "9fea3d4c",
   "metadata": {},
   "outputs": [
    {
     "name": "stdout",
     "output_type": "stream",
     "text": [
      "Web Research Agent ID: asst_IRw9iGlx3q1Dqdoyoutgu4so\n",
      "Agent Name: web-research-agent\n",
      "Agent created successfully!\n"
     ]
    }
   ],
   "source": [
    "agent = project_client.agents.create_agent(\n",
    "    model=os.environ[\"MODEL_DEPLOYMENT_NAME\"],\n",
    "    name=\"web-research-agent\",\n",
    "    instructions=\"\"\"\n",
    "You will be provided with a question or topic that you should research. Your task is to use your ability to search the public internet via Bing to find relevant information and produce a detailed write up with key findings that **INCLUDE URL CITATIONS**.\n",
    "\"\"\",\n",
    "    temperature=0.1,  # Low temperature for consistent, factual responses\n",
    "    tools=bing_tool.definitions,\n",
    "    headers={\"x-ms-enable-preview\": \"true\"}\n",
    ")\n",
    "\n",
    "print(f\"Web Research Agent ID: {agent.id}\")\n",
    "print(f\"Agent Name: {agent.name}\")\n",
    "print(\"Agent created successfully!\")"
   ]
  },
  {
   "cell_type": "markdown",
   "id": "ab972417",
   "metadata": {},
   "source": [
    "## Agent Management"
   ]
  },
  {
   "cell_type": "code",
   "execution_count": 11,
   "id": "1b124d09",
   "metadata": {},
   "outputs": [
    {
     "name": "stdout",
     "output_type": "stream",
     "text": [
      "Agent Name: web-research-agent\n",
      "Model: gpt-4.1\n",
      "Temperature: 0.1\n",
      "Tools: 1 configured\n"
     ]
    }
   ],
   "source": [
    "# View agent details\n",
    "agent_details = project_client.agents.get_agent(agent.id)\n",
    "print(f\"Agent Name: {agent_details.name}\")\n",
    "print(f\"Model: {agent_details.model}\")\n",
    "print(f\"Temperature: {agent_details.temperature}\")\n",
    "print(f\"Tools: {len(agent_details.tools)} configured\")"
   ]
  },
  {
   "cell_type": "markdown",
   "id": "9f0db835",
   "metadata": {},
   "source": [
    "## Important: Save Agent ID\n",
    "\n",
    "After creating the agent, make sure to add the agent ID to your `.env` file for future use:\n",
    "\n",
    "```\n",
    "WEB_RESEARCH_AGENT_ID=your_agent_id_here\n",
    "```\n",
    "\n",
    "Copy the agent ID from the output above and add it to your `.env` file before proceeding to the next steps."
   ]
  }
 ],
 "metadata": {
  "kernelspec": {
   "display_name": "Python 3",
   "language": "python",
   "name": "python3"
  },
  "language_info": {
   "codemirror_mode": {
    "name": "ipython",
    "version": 3
   },
   "file_extension": ".py",
   "mimetype": "text/x-python",
   "name": "python",
   "nbconvert_exporter": "python",
   "pygments_lexer": "ipython3",
   "version": "3.11.9"
  }
 },
 "nbformat": 4,
 "nbformat_minor": 5
}
