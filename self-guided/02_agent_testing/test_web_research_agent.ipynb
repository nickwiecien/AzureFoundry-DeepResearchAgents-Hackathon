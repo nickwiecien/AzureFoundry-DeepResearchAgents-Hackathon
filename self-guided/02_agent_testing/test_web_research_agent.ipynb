{
 "cells": [
  {
   "cell_type": "markdown",
   "id": "e951de86",
   "metadata": {},
   "source": [
    "# Test Web Research Agent\n",
    "\n",
    "This notebook tests the web research agent created in the previous step by asking it to research the latest 3M news and displaying the response in markdown format.\n",
    "\n",
    "**Prerequisites:**\n",
    "- Web research agent must be created (from 01_agent_creation)\n",
    "- Agent ID must be saved in .env file as WEB_RESEARCH_AGENT_ID"
   ]
  },
  {
   "cell_type": "markdown",
   "id": "47055f4a",
   "metadata": {},
   "source": [
    "## Import required packages"
   ]
  },
  {
   "cell_type": "code",
   "execution_count": 46,
   "id": "b5ab2d3f",
   "metadata": {},
   "outputs": [
    {
     "data": {
      "text/plain": [
       "True"
      ]
     },
     "execution_count": 46,
     "metadata": {},
     "output_type": "execute_result"
    }
   ],
   "source": [
    "import os\n",
    "import time\n",
    "from azure.ai.projects import AIProjectClient\n",
    "from azure.identity import DefaultAzureCredential\n",
    "from dotenv import load_dotenv\n",
    "from IPython.display import Markdown, display\n",
    "\n",
    "# Load environment variables\n",
    "load_dotenv('../../.env', override=True)"
   ]
  },
  {
   "cell_type": "markdown",
   "id": "8ae69cc0",
   "metadata": {},
   "source": [
    "## Create Azure AI Project client"
   ]
  },
  {
   "cell_type": "code",
   "execution_count": 47,
   "id": "0219ef31",
   "metadata": {},
   "outputs": [],
   "source": [
    "project_client = AIProjectClient(\n",
    "    endpoint=os.environ[\"AZURE_AI_FOUNDRY_ENDPOINT\"],\n",
    "    credential=DefaultAzureCredential(),\n",
    ")"
   ]
  },
  {
   "cell_type": "markdown",
   "id": "f1d55f8c",
   "metadata": {},
   "source": [
    "## Load the Web Research Agent"
   ]
  },
  {
   "cell_type": "code",
   "execution_count": 48,
   "id": "522ea050",
   "metadata": {},
   "outputs": [
    {
     "name": "stdout",
     "output_type": "stream",
     "text": [
      "Using Web Research Agent ID: asst_IRw9iGlx3q1Dqdoyoutgu4so\n",
      "Agent Name: web-research-agent\n",
      "Agent Model: gpt-4o\n"
     ]
    }
   ],
   "source": [
    "# Get the agent ID from environment variables\n",
    "agent_id = os.environ[\"WEB_RESEARCH_AGENT_ID\"]\n",
    "print(f\"Using Web Research Agent ID: {agent_id}\")\n",
    "\n",
    "# Verify the agent exists\n",
    "agent = project_client.agents.get_agent(agent_id)\n",
    "print(f\"Agent Name: {agent.name}\")\n",
    "print(f\"Agent Model: {agent.model}\")"
   ]
  },
  {
   "cell_type": "markdown",
   "id": "19ea1b9b",
   "metadata": {},
   "source": [
    "## Create a thread and test the agent"
   ]
  },
  {
   "cell_type": "code",
   "execution_count": 49,
   "id": "97ea1fcd",
   "metadata": {},
   "outputs": [
    {
     "name": "stdout",
     "output_type": "stream",
     "text": [
      "Created thread: thread_fLsRpBJyOYSZkMKeW6YCjZAs\n"
     ]
    }
   ],
   "source": [
    "# Create a new thread for this test\n",
    "thread = project_client.agents.threads.create()\n",
    "print(f\"Created thread: {thread.id}\")"
   ]
  },
  {
   "cell_type": "code",
   "execution_count": 50,
   "id": "540c1371",
   "metadata": {},
   "outputs": [
    {
     "name": "stdout",
     "output_type": "stream",
     "text": [
      "Asking question: What is the latest in 3M news?\n",
      "Message created: msg_yoJA6aCN8zLQ7G6gJjRZL9S0\n"
     ]
    }
   ],
   "source": [
    "# Ask the default question about 3M news\n",
    "test_question = \"What is the latest in 3M news?\"\n",
    "print(f\"Asking question: {test_question}\")\n",
    "\n",
    "# Create the message\n",
    "message = project_client.agents.messages.create(\n",
    "    thread_id=thread.id,\n",
    "    role=\"user\",\n",
    "    content=test_question\n",
    ")\n",
    "\n",
    "print(f\"Message created: {message.id}\")"
   ]
  },
  {
   "cell_type": "code",
   "execution_count": 51,
   "id": "59000860",
   "metadata": {},
   "outputs": [
    {
     "name": "stdout",
     "output_type": "stream",
     "text": [
      "Run ID: run_Hz7OOvS1MIeO3otQ83R13F3I\n",
      "Research in progress...\n"
     ]
    }
   ],
   "source": [
    "# Run the agent\n",
    "run = project_client.agents.runs.create(\n",
    "    thread_id=thread.id,\n",
    "    agent_id=agent_id\n",
    ")\n",
    "\n",
    "print(f\"Run ID: {run.id}\")\n",
    "print(\"Research in progress...\")"
   ]
  },
  {
   "cell_type": "code",
   "execution_count": 52,
   "id": "69c01d62",
   "metadata": {},
   "outputs": [
    {
     "name": "stdout",
     "output_type": "stream",
     "text": [
      "Status: RunStatus.IN_PROGRESS\n",
      "Status: RunStatus.COMPLETED\n",
      "\n",
      "Final status: RunStatus.COMPLETED\n"
     ]
    }
   ],
   "source": [
    "# Wait for completion\n",
    "while run.status in [\"queued\", \"in_progress\", \"requires_action\"]:\n",
    "    time.sleep(3)\n",
    "    run = project_client.agents.runs.get(thread_id=thread.id, run_id=run.id)\n",
    "    print(f\"Status: {run.status}\")\n",
    "\n",
    "print(f\"\\nFinal status: {run.status}\")"
   ]
  },
  {
   "cell_type": "markdown",
   "id": "20f5e5f8",
   "metadata": {},
   "source": [
    "## Display the research results"
   ]
  },
  {
   "cell_type": "code",
   "execution_count": 60,
   "id": "31548a50",
   "metadata": {},
   "outputs": [
    {
     "name": "stdout",
     "output_type": "stream",
     "text": [
      "Research completed! Displaying results below...\n"
     ]
    }
   ],
   "source": [
    "# Get the messages from the thread\n",
    "messages = project_client.agents.messages.list(thread_id=thread.id)\n",
    "\n",
    "# Find the assistant's response\n",
    "for message in messages:\n",
    "    if message.role != \"assistant\":\n",
    "        continue\n",
    "    citations = message.url_citation_annotations\n",
    "    if len(citations) > 0:\n",
    "        citations = [x.as_dict() for x in citations]\n",
    "    updated_text = ''\n",
    "    if len(message.content) > 0:\n",
    "        for entity in message.content:\n",
    "            if entity.type=='text':\n",
    "                updated_text += entity.text.value\n",
    "    for citation in citations:\n",
    "        formatted_citation = f\" [{citation['url_citation']['title']}]({citation['url_citation']['url']}) \"\n",
    "        updated_text = updated_text.replace(citation['text'], formatted_citation)\n",
    "    research_response = updated_text\n",
    "    \n",
    "\n",
    "print(\"Research completed! Displaying results below...\")"
   ]
  },
  {
   "cell_type": "markdown",
   "id": "fea8ffb6",
   "metadata": {},
   "source": [
    "## 3M News Research Results"
   ]
  },
  {
   "cell_type": "code",
   "execution_count": 61,
   "id": "c09f7b45",
   "metadata": {},
   "outputs": [
    {
     "data": {
      "text/markdown": [
       "Recent developments in 3M include:\n",
       "\n",
       "1. **3M Young Scientist Challenge**: On June 25, 2025, 3M and Discovery Education announced the top 10 finalists for the 2025 3M Young Scientist Challenge, a premier middle school science competition [3M News Center - Press Releases](https://news.3m.com/press-releases) .\n",
       "\n",
       "2. **Structural Reorganization**: 3M has been undergoing structural changes to streamline its operations, including reducing its corporate center size, optimizing manufacturing roles, and simplifying its supply chain. These efforts have improved margins and cash flow, with a projected adjusted earnings range of $7.60-$7.90 per share for 2025 [3M Structural Reorganization Actions in Motion: Will It Boost ... - Nasdaq](https://www.nasdaq.com/articles/3m-structural-reorganization-actions-motion-will-it-boost-margins) .\n",
       "\n",
       "3. **Tariff Challenges**: The company expects up to $850 million in tariff-related expenses in 2025, primarily due to U.S.-China trade tensions. 3M is leveraging its global manufacturing and distribution network to mitigate these impacts [3M expects up to $850M tariff hit | Manufacturing Dive](https://www.manufacturingdive.com/news/3m-q1-2025-850-million-tariff-impact-trade-war-china/746037/) .\n",
       "\n",
       "4. **New Product Launch**: 3M recently introduced a new abrasives catalog in June 2025, showcasing its latest innovations [NEW 3M Abrasives Catalog (June 2025) - Cline Tool](https://clinetool.com/blog/2025/06/23/new-3m-abrasives-catalog-june-2025/) .\n",
       "\n",
       "These updates highlight 3M's focus on innovation, operational efficiency, and navigating global trade challenges."
      ],
      "text/plain": [
       "<IPython.core.display.Markdown object>"
      ]
     },
     "metadata": {},
     "output_type": "display_data"
    }
   ],
   "source": [
    "# Display the research results as formatted markdown\n",
    "display(Markdown(research_response))"
   ]
  }
 ],
 "metadata": {
  "kernelspec": {
   "display_name": "Python 3",
   "language": "python",
   "name": "python3"
  },
  "language_info": {
   "codemirror_mode": {
    "name": "ipython",
    "version": 3
   },
   "file_extension": ".py",
   "mimetype": "text/x-python",
   "name": "python",
   "nbconvert_exporter": "python",
   "pygments_lexer": "ipython3",
   "version": "3.11.9"
  }
 },
 "nbformat": 4,
 "nbformat_minor": 5
}
