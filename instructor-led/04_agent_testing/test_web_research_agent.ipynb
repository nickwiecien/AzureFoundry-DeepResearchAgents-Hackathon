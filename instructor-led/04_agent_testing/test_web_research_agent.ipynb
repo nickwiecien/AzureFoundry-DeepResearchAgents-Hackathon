{
 "cells": [
  {
   "cell_type": "markdown",
   "id": "62da1977",
   "metadata": {},
   "source": [
    "# Test Web Research Agent\n",
    "\n",
    "This notebook tests the web research agent created in the previous steps by asking it to research various topics and displaying the responses.\n",
    "\n",
    "**Prerequisites:**\n",
    "- Web research agent must be created (from 03_agent_creation)\n",
    "- Agent ID must be saved in .env file as WEB_RESEARCH_AGENT_ID"
   ]
  },
  {
   "cell_type": "markdown",
   "id": "f4479fcc",
   "metadata": {},
   "source": [
    "## Import required packages"
   ]
  },
  {
   "cell_type": "code",
   "execution_count": null,
   "id": "66c1289c",
   "metadata": {},
   "outputs": [],
   "source": [
    "import os\n",
    "import time\n",
    "from azure.ai.projects import AIProjectClient\n",
    "from azure.identity import DefaultAzureCredential\n",
    "from dotenv import load_dotenv\n",
    "from IPython.display import Markdown, display\n",
    "\n",
    "# Load environment variables\n",
    "load_dotenv('../../.env', override=True)"
   ]
  },
  {
   "cell_type": "markdown",
   "id": "152b7728",
   "metadata": {},
   "source": [
    "## Create Azure AI Project client"
   ]
  },
  {
   "cell_type": "code",
   "execution_count": null,
   "id": "2941c6d6",
   "metadata": {},
   "outputs": [],
   "source": [
    "project_client = AIProjectClient(\n",
    "    endpoint=os.environ[\"AZURE_AI_FOUNDRY_ENDPOINT\"],\n",
    "    credential=DefaultAzureCredential(),\n",
    ")"
   ]
  },
  {
   "cell_type": "markdown",
   "id": "134cf269",
   "metadata": {},
   "source": [
    "## Load the Web Research Agent"
   ]
  },
  {
   "cell_type": "code",
   "execution_count": null,
   "id": "f4d0bbf6",
   "metadata": {},
   "outputs": [],
   "source": [
    "# Get the agent ID from environment variables\n",
    "agent_id = os.environ[\"WEB_RESEARCH_AGENT_ID\"]\n",
    "print(f\"Using Web Research Agent ID: {agent_id}\")\n",
    "\n",
    "# Verify the agent exists\n",
    "agent = project_client.agents.get_agent(agent_id)\n",
    "print(f\"Agent Name: {agent.name}\")\n",
    "print(f\"Agent Model: {agent.model}\")"
   ]
  },
  {
   "cell_type": "markdown",
   "id": "70c7e148",
   "metadata": {},
   "source": [
    "## Test 1: Manufacturing Innovation Research"
   ]
  },
  {
   "cell_type": "code",
   "execution_count": null,
   "id": "8c00bc88",
   "metadata": {},
   "outputs": [],
   "source": [
    "# Create a new thread for this test\n",
    "thread1 = project_client.agents.create_thread()\n",
    "print(f\"Created thread: {thread1.id}\")\n",
    "\n",
    "# Test question about manufacturing innovation\n",
    "question1 = \"What are the latest innovations in sustainable manufacturing processes for 2024-2025?\"\n",
    "print(f\"Research Question: {question1}\")"
   ]
  },
  {
   "cell_type": "code",
   "execution_count": null,
   "id": "db9c458f",
   "metadata": {},
   "outputs": [],
   "source": [
    "# Create the message and run the agent\n",
    "message1 = project_client.agents.create_message(\n",
    "    thread_id=thread1.id,\n",
    "    role=\"user\",\n",
    "    content=question1\n",
    ")\n",
    "\n",
    "run1 = project_client.agents.create_run(\n",
    "    thread_id=thread1.id,\n",
    "    agent_id=agent_id\n",
    ")\n",
    "\n",
    "print(f\"Research in progress... (Run ID: {run1.id})\")\n",
    "\n",
    "# Wait for completion\n",
    "while run1.status in [\"queued\", \"in_progress\", \"requires_action\"]:\n",
    "    time.sleep(3)\n",
    "    run1 = project_client.agents.get_run(thread_id=thread1.id, run_id=run1.id)\n",
    "    print(f\"Status: {run1.status}\")\n",
    "\n",
    "print(f\"\\nResearch completed with status: {run1.status}\")"
   ]
  },
  {
   "cell_type": "code",
   "execution_count": null,
   "id": "174f2379",
   "metadata": {},
   "outputs": [],
   "source": [
    "# Display results for Test 1\n",
    "messages1 = project_client.agents.list_messages(thread_id=thread1.id)\n",
    "\n",
    "print(\"\\n\" + \"=\"*80)\n",
    "print(\"MANUFACTURING INNOVATION RESEARCH RESULTS\")\n",
    "print(\"=\"*80)\n",
    "\n",
    "for message in reversed(messages1.data):\n",
    "    if message.role == \"assistant\":\n",
    "        for content in message.content:\n",
    "            if hasattr(content, 'text'):\n",
    "                display(Markdown(content.text.value))\n",
    "                break\n",
    "        break"
   ]
  },
  {
   "cell_type": "markdown",
   "id": "55506e3e",
   "metadata": {},
   "source": [
    "## Test 2: Technology Trends Research"
   ]
  },
  {
   "cell_type": "code",
   "execution_count": null,
   "id": "062c6166",
   "metadata": {},
   "outputs": [],
   "source": [
    "# Create a new thread for this test\n",
    "thread2 = project_client.agents.create_thread()\n",
    "print(f\"Created thread: {thread2.id}\")\n",
    "\n",
    "# Test question about AI in enterprise\n",
    "question2 = \"What are the current trends and challenges in enterprise AI adoption across different industries?\"\n",
    "print(f\"Research Question: {question2}\")"
   ]
  },
  {
   "cell_type": "code",
   "execution_count": null,
   "id": "f891b84c",
   "metadata": {},
   "outputs": [],
   "source": [
    "# Create the message and run the agent\n",
    "message2 = project_client.agents.create_message(\n",
    "    thread_id=thread2.id,\n",
    "    role=\"user\",\n",
    "    content=question2\n",
    ")\n",
    "\n",
    "run2 = project_client.agents.create_run(\n",
    "    thread_id=thread2.id,\n",
    "    agent_id=agent_id\n",
    ")\n",
    "\n",
    "print(f\"Research in progress... (Run ID: {run2.id})\")\n",
    "\n",
    "# Wait for completion\n",
    "while run2.status in [\"queued\", \"in_progress\", \"requires_action\"]:\n",
    "    time.sleep(3)\n",
    "    run2 = project_client.agents.get_run(thread_id=thread2.id, run_id=run2.id)\n",
    "    print(f\"Status: {run2.status}\")\n",
    "\n",
    "print(f\"\\nResearch completed with status: {run2.status}\")"
   ]
  },
  {
   "cell_type": "code",
   "execution_count": null,
   "id": "7059206c",
   "metadata": {},
   "outputs": [],
   "source": [
    "# Display results for Test 2\n",
    "messages2 = project_client.agents.list_messages(thread_id=thread2.id)\n",
    "\n",
    "print(\"\\n\" + \"=\"*80)\n",
    "print(\"ENTERPRISE AI TRENDS RESEARCH RESULTS\")\n",
    "print(\"=\"*80)\n",
    "\n",
    "for message in reversed(messages2.data):\n",
    "    if message.role == \"assistant\":\n",
    "        for content in message.content:\n",
    "            if hasattr(content, 'text'):\n",
    "                display(Markdown(content.text.value))\n",
    "                break\n",
    "        break"
   ]
  },
  {
   "cell_type": "markdown",
   "id": "54fe5132",
   "metadata": {},
   "source": [
    "## Test 3: Custom Research Topic"
   ]
  },
  {
   "cell_type": "code",
   "execution_count": null,
   "id": "872f41c1",
   "metadata": {},
   "outputs": [],
   "source": [
    "# Define your own research question here\n",
    "custom_question = \"Research the latest developments in renewable energy storage solutions and their commercial viability.\"\n",
    "\n",
    "# Create a new thread for this test\n",
    "thread3 = project_client.agents.create_thread()\n",
    "print(f\"Created thread: {thread3.id}\")\n",
    "print(f\"Custom Research Question: {custom_question}\")"
   ]
  },
  {
   "cell_type": "code",
   "execution_count": null,
   "id": "3528d85a",
   "metadata": {},
   "outputs": [],
   "source": [
    "# Create the message and run the agent\n",
    "message3 = project_client.agents.create_message(\n",
    "    thread_id=thread3.id,\n",
    "    role=\"user\",\n",
    "    content=custom_question\n",
    ")\n",
    "\n",
    "run3 = project_client.agents.create_run(\n",
    "    thread_id=thread3.id,\n",
    "    agent_id=agent_id\n",
    ")\n",
    "\n",
    "print(f\"Research in progress... (Run ID: {run3.id})\")\n",
    "\n",
    "# Wait for completion\n",
    "while run3.status in [\"queued\", \"in_progress\", \"requires_action\"]:\n",
    "    time.sleep(3)\n",
    "    run3 = project_client.agents.get_run(thread_id=thread3.id, run_id=run3.id)\n",
    "    print(f\"Status: {run3.status}\")\n",
    "\n",
    "print(f\"\\nResearch completed with status: {run3.status}\")"
   ]
  },
  {
   "cell_type": "code",
   "execution_count": null,
   "id": "0e3889b6",
   "metadata": {},
   "outputs": [],
   "source": [
    "# Display results for Test 3\n",
    "messages3 = project_client.agents.list_messages(thread_id=thread3.id)\n",
    "\n",
    "print(\"\\n\" + \"=\"*80)\n",
    "print(\"CUSTOM RESEARCH RESULTS\")\n",
    "print(\"=\"*80)\n",
    "\n",
    "for message in reversed(messages3.data):\n",
    "    if message.role == \"assistant\":\n",
    "        for content in message.content:\n",
    "            if hasattr(content, 'text'):\n",
    "                display(Markdown(content.text.value))\n",
    "                break\n",
    "        break"
   ]
  },
  {
   "cell_type": "markdown",
   "id": "ad2d9b45",
   "metadata": {},
   "source": [
    "## Summary\n",
    "\n",
    "This notebook tested the web research agent with three different types of queries:\n",
    "\n",
    "1. **Manufacturing Innovation** - Focused on sustainable manufacturing processes\n",
    "2. **Technology Trends** - Enterprise AI adoption across industries  \n",
    "3. **Custom Topic** - Renewable energy storage solutions\n",
    "\n",
    "Each test demonstrates the agent's ability to:\n",
    "- Search the web for current information\n",
    "- Provide detailed analysis with proper citations\n",
    "- Format responses in professional markdown\n",
    "- Include clickable URL references\n",
    "\n",
    "The agent successfully handles diverse research topics and provides comprehensive, well-cited responses suitable for business and technical audiences."
   ]
  }
 ],
 "metadata": {
  "language_info": {
   "name": "python"
  }
 },
 "nbformat": 4,
 "nbformat_minor": 5
}
