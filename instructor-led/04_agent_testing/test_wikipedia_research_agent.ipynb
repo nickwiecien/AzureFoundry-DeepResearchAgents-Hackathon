{
 "cells": [
  {
   "cell_type": "markdown",
   "id": "44e8d08b",
   "metadata": {},
   "source": [
    "# Test Wikipedia Research Agent\n",
    "\n",
    "This notebook tests the Wikipedia research agent created in the previous steps by asking it to research various topics using Wikipedia as the primary source.\n",
    "\n",
    "**Prerequisites:**\n",
    "- Wikipedia research agent must be created (from 03_agent_creation)\n",
    "- Agent ID must be saved in .env file as WIKIPEDIA_RESEARCH_AGENT_ID"
   ]
  },
  {
   "cell_type": "markdown",
   "id": "51451f69",
   "metadata": {},
   "source": [
    "## Import required packages"
   ]
  },
  {
   "cell_type": "code",
   "execution_count": null,
   "id": "f815ea97",
   "metadata": {},
   "outputs": [],
   "source": [
    "import os\n",
    "import time\n",
    "from azure.ai.projects import AIProjectClient\n",
    "from azure.identity import DefaultAzureCredential\n",
    "from dotenv import load_dotenv\n",
    "from IPython.display import Markdown, display\n",
    "\n",
    "# Load environment variables\n",
    "load_dotenv('../../.env', override=True)"
   ]
  },
  {
   "cell_type": "markdown",
   "id": "997dcd1b",
   "metadata": {},
   "source": [
    "## Create Azure AI Project client"
   ]
  },
  {
   "cell_type": "code",
   "execution_count": null,
   "id": "8e28ac9e",
   "metadata": {},
   "outputs": [],
   "source": [
    "project_client = AIProjectClient(\n",
    "    endpoint=os.environ[\"AZURE_AI_FOUNDRY_ENDPOINT\"],\n",
    "    credential=DefaultAzureCredential(),\n",
    ")"
   ]
  },
  {
   "cell_type": "markdown",
   "id": "cc325c84",
   "metadata": {},
   "source": [
    "## Load the Wikipedia Research Agent"
   ]
  },
  {
   "cell_type": "code",
   "execution_count": null,
   "id": "76024576",
   "metadata": {},
   "outputs": [],
   "source": [
    "# Get the agent ID from environment variables\n",
    "agent_id = os.environ[\"WIKIPEDIA_RESEARCH_AGENT_ID\"]\n",
    "print(f\"Using Wikipedia Research Agent ID: {agent_id}\")\n",
    "\n",
    "# Verify the agent exists\n",
    "agent = project_client.agents.get_agent(agent_id)\n",
    "print(f\"Agent Name: {agent.name}\")\n",
    "print(f\"Agent Model: {agent.model}\")"
   ]
  },
  {
   "cell_type": "markdown",
   "id": "06514485",
   "metadata": {},
   "source": [
    "## Test 1: Historical Research"
   ]
  },
  {
   "cell_type": "code",
   "execution_count": null,
   "id": "c13f61e7",
   "metadata": {},
   "outputs": [],
   "source": [
    "# Create a new thread for this test\n",
    "thread1 = project_client.agents.create_thread()\n",
    "print(f\"Created thread: {thread1.id}\")\n",
    "\n",
    "# Test question about industrial history\n",
    "question1 = \"Research the history of 3M Company, including its founding, major innovations, and key milestones in its development.\"\n",
    "print(f\"Research Question: {question1}\")"
   ]
  },
  {
   "cell_type": "code",
   "execution_count": null,
   "id": "cfac678f",
   "metadata": {},
   "outputs": [],
   "source": [
    "# Create the message and run the agent\n",
    "message1 = project_client.agents.create_message(\n",
    "    thread_id=thread1.id,\n",
    "    role=\"user\",\n",
    "    content=question1\n",
    ")\n",
    "\n",
    "run1 = project_client.agents.create_run(\n",
    "    thread_id=thread1.id,\n",
    "    agent_id=agent_id\n",
    ")\n",
    "\n",
    "print(f\"Research in progress... (Run ID: {run1.id})\")\n",
    "\n",
    "# Wait for completion\n",
    "while run1.status in [\"queued\", \"in_progress\", \"requires_action\"]:\n",
    "    time.sleep(3)\n",
    "    run1 = project_client.agents.get_run(thread_id=thread1.id, run_id=run1.id)\n",
    "    print(f\"Status: {run1.status}\")\n",
    "\n",
    "print(f\"\\nResearch completed with status: {run1.status}\")"
   ]
  },
  {
   "cell_type": "code",
   "execution_count": null,
   "id": "73c3c2cd",
   "metadata": {},
   "outputs": [],
   "source": [
    "# Display results for Test 1\n",
    "messages1 = project_client.agents.list_messages(thread_id=thread1.id)\n",
    "\n",
    "print(\"\\n\" + \"=\"*80)\n",
    "print(\"3M COMPANY HISTORY RESEARCH RESULTS\")\n",
    "print(\"=\"*80)\n",
    "\n",
    "for message in reversed(messages1.data):\n",
    "    if message.role == \"assistant\":\n",
    "        for content in message.content:\n",
    "            if hasattr(content, 'text'):\n",
    "                display(Markdown(content.text.value))\n",
    "                break\n",
    "        break"
   ]
  },
  {
   "cell_type": "markdown",
   "id": "97c3bb12",
   "metadata": {},
   "source": [
    "## Test 2: Scientific Research"
   ]
  },
  {
   "cell_type": "code",
   "execution_count": null,
   "id": "fe88484a",
   "metadata": {},
   "outputs": [],
   "source": [
    "# Create a new thread for this test\n",
    "thread2 = project_client.agents.create_thread()\n",
    "print(f\"Created thread: {thread2.id}\")\n",
    "\n",
    "# Test question about materials science\n",
    "question2 = \"Research adhesive technologies and their applications in modern manufacturing, including the science behind different types of adhesives.\"\n",
    "print(f\"Research Question: {question2}\")"
   ]
  },
  {
   "cell_type": "code",
   "execution_count": null,
   "id": "bcb1a866",
   "metadata": {},
   "outputs": [],
   "source": [
    "# Create the message and run the agent\n",
    "message2 = project_client.agents.create_message(\n",
    "    thread_id=thread2.id,\n",
    "    role=\"user\",\n",
    "    content=question2\n",
    ")\n",
    "\n",
    "run2 = project_client.agents.create_run(\n",
    "    thread_id=thread2.id,\n",
    "    agent_id=agent_id\n",
    ")\n",
    "\n",
    "print(f\"Research in progress... (Run ID: {run2.id})\")\n",
    "\n",
    "# Wait for completion\n",
    "while run2.status in [\"queued\", \"in_progress\", \"requires_action\"]:\n",
    "    time.sleep(3)\n",
    "    run2 = project_client.agents.get_run(thread_id=thread2.id, run_id=run2.id)\n",
    "    print(f\"Status: {run2.status}\")\n",
    "\n",
    "print(f\"\\nResearch completed with status: {run2.status}\")"
   ]
  },
  {
   "cell_type": "code",
   "execution_count": null,
   "id": "2ecc2fd0",
   "metadata": {},
   "outputs": [],
   "source": [
    "# Display results for Test 2\n",
    "messages2 = project_client.agents.list_messages(thread_id=thread2.id)\n",
    "\n",
    "print(\"\\n\" + \"=\"*80)\n",
    "print(\"ADHESIVE TECHNOLOGY RESEARCH RESULTS\")\n",
    "print(\"=\"*80)\n",
    "\n",
    "for message in reversed(messages2.data):\n",
    "    if message.role == \"assistant\":\n",
    "        for content in message.content:\n",
    "            if hasattr(content, 'text'):\n",
    "                display(Markdown(content.text.value))\n",
    "                break\n",
    "        break"
   ]
  },
  {
   "cell_type": "markdown",
   "id": "77e2e790",
   "metadata": {},
   "source": [
    "## Test 3: Technology Research"
   ]
  },
  {
   "cell_type": "code",
   "execution_count": null,
   "id": "23751b28",
   "metadata": {},
   "outputs": [],
   "source": [
    "# Create a new thread for this test\n",
    "thread3 = project_client.agents.create_thread()\n",
    "print(f\"Created thread: {thread3.id}\")\n",
    "\n",
    "# Test question about industrial filtration\n",
    "question3 = \"Research industrial filtration systems and air purification technologies, including their principles and applications.\"\n",
    "print(f\"Research Question: {question3}\")"
   ]
  },
  {
   "cell_type": "code",
   "execution_count": null,
   "id": "ad06341e",
   "metadata": {},
   "outputs": [],
   "source": [
    "# Create the message and run the agent\n",
    "message3 = project_client.agents.create_message(\n",
    "    thread_id=thread3.id,\n",
    "    role=\"user\",\n",
    "    content=question3\n",
    ")\n",
    "\n",
    "run3 = project_client.agents.create_run(\n",
    "    thread_id=thread3.id,\n",
    "    agent_id=agent_id\n",
    ")\n",
    "\n",
    "print(f\"Research in progress... (Run ID: {run3.id})\")\n",
    "\n",
    "# Wait for completion\n",
    "while run3.status in [\"queued\", \"in_progress\", \"requires_action\"]:\n",
    "    time.sleep(3)\n",
    "    run3 = project_client.agents.get_run(thread_id=thread3.id, run_id=run3.id)\n",
    "    print(f\"Status: {run3.status}\")\n",
    "\n",
    "print(f\"\\nResearch completed with status: {run3.status}\")"
   ]
  },
  {
   "cell_type": "code",
   "execution_count": null,
   "id": "3a76853b",
   "metadata": {},
   "outputs": [],
   "source": [
    "# Display results for Test 3\n",
    "messages3 = project_client.agents.list_messages(thread_id=thread3.id)\n",
    "\n",
    "print(\"\\n\" + \"=\"*80)\n",
    "print(\"INDUSTRIAL FILTRATION RESEARCH RESULTS\")\n",
    "print(\"=\"*80)\n",
    "\n",
    "for message in reversed(messages3.data):\n",
    "    if message.role == \"assistant\":\n",
    "        for content in message.content:\n",
    "            if hasattr(content, 'text'):\n",
    "                display(Markdown(content.text.value))\n",
    "                break\n",
    "        break"
   ]
  },
  {
   "cell_type": "markdown",
   "id": "6e5f902c",
   "metadata": {},
   "source": [
    "## Test 4: Custom Wikipedia Research"
   ]
  },
  {
   "cell_type": "code",
   "execution_count": null,
   "id": "95443df6",
   "metadata": {},
   "outputs": [],
   "source": [
    "# Define your own research question here\n",
    "custom_question = \"Research the development and applications of reflective materials and their use in safety equipment.\"\n",
    "\n",
    "# Create a new thread for this test\n",
    "thread4 = project_client.agents.create_thread()\n",
    "print(f\"Created thread: {thread4.id}\")\n",
    "print(f\"Custom Research Question: {custom_question}\")"
   ]
  },
  {
   "cell_type": "code",
   "execution_count": null,
   "id": "5ac4de2c",
   "metadata": {},
   "outputs": [],
   "source": [
    "# Create the message and run the agent\n",
    "message4 = project_client.agents.create_message(\n",
    "    thread_id=thread4.id,\n",
    "    role=\"user\",\n",
    "    content=custom_question\n",
    ")\n",
    "\n",
    "run4 = project_client.agents.create_run(\n",
    "    thread_id=thread4.id,\n",
    "    agent_id=agent_id\n",
    ")\n",
    "\n",
    "print(f\"Research in progress... (Run ID: {run4.id})\")\n",
    "\n",
    "# Wait for completion\n",
    "while run4.status in [\"queued\", \"in_progress\", \"requires_action\"]:\n",
    "    time.sleep(3)\n",
    "    run4 = project_client.agents.get_run(thread_id=thread4.id, run_id=run4.id)\n",
    "    print(f\"Status: {run4.status}\")\n",
    "\n",
    "print(f\"\\nResearch completed with status: {run4.status}\")"
   ]
  },
  {
   "cell_type": "code",
   "execution_count": null,
   "id": "f8c3f5dc",
   "metadata": {},
   "outputs": [],
   "source": [
    "# Display results for Test 4\n",
    "messages4 = project_client.agents.list_messages(thread_id=thread4.id)\n",
    "\n",
    "print(\"\\n\" + \"=\"*80)\n",
    "print(\"CUSTOM WIKIPEDIA RESEARCH RESULTS\")\n",
    "print(\"=\"*80)\n",
    "\n",
    "for message in reversed(messages4.data):\n",
    "    if message.role == \"assistant\":\n",
    "        for content in message.content:\n",
    "            if hasattr(content, 'text'):\n",
    "                display(Markdown(content.text.value))\n",
    "                break\n",
    "        break"
   ]
  },
  {
   "cell_type": "markdown",
   "id": "ce749794",
   "metadata": {},
   "source": [
    "## Summary\n",
    "\n",
    "This notebook tested the Wikipedia research agent with four different types of queries:\n",
    "\n",
    "1. **Historical Research** - 3M Company history and development\n",
    "2. **Scientific Research** - Adhesive technologies and materials science\n",
    "3. **Technology Research** - Industrial filtration and air purification systems\n",
    "4. **Custom Topic** - Reflective materials and safety applications\n",
    "\n",
    "Each test demonstrates the agent's ability to:\n",
    "- Search Wikipedia for comprehensive information\n",
    "- Provide detailed analysis based on encyclopedia content\n",
    "- Format responses in professional markdown\n",
    "- Include proper Wikipedia citations and references\n",
    "- Focus on factual, well-documented information\n",
    "\n",
    "The Wikipedia research agent is particularly effective for:\n",
    "- Historical background research\n",
    "- Scientific and technical concept explanations\n",
    "- Foundational knowledge gathering\n",
    "- Educational content development\n",
    "- Fact-checking and verification"
   ]
  }
 ],
 "metadata": {
  "language_info": {
   "name": "python"
  }
 },
 "nbformat": 4,
 "nbformat_minor": 5
}
