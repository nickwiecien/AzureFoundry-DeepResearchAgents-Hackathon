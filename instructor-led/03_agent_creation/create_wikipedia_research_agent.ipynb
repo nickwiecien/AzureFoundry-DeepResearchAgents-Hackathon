{
 "cells": [
  {
   "cell_type": "markdown",
   "id": "50a8a880",
   "metadata": {},
   "source": [
    "# Wikipedia Research Agent\n",
    "\n",
    "This notebook demonstrates how to create an Azure AI Foundry agent that performs research using only Wikipedia as its information source. The agent leverages a dedicated OpenAPI tool defined by `wikipedia_search_api_openapi_spec.json` to search and retrieve information from Wikipedia articles."
   ]
  },
  {
   "cell_type": "markdown",
   "id": "c302b8a2",
   "metadata": {},
   "source": [
    "## Install dependencies (if needed)"
   ]
  },
  {
   "cell_type": "code",
   "execution_count": 1,
   "id": "bf962734",
   "metadata": {},
   "outputs": [],
   "source": [
    "# !pip install -r ../../requirements.txt"
   ]
  },
  {
   "cell_type": "markdown",
   "id": "bc77756d",
   "metadata": {},
   "source": [
    "## Import required packages"
   ]
  },
  {
   "cell_type": "code",
   "execution_count": 2,
   "id": "af036064",
   "metadata": {},
   "outputs": [
    {
     "data": {
      "text/plain": [
       "True"
      ]
     },
     "execution_count": 2,
     "metadata": {},
     "output_type": "execute_result"
    }
   ],
   "source": [
    "import os\n",
    "from azure.ai.projects import AIProjectClient\n",
    "from azure.identity import DefaultAzureCredential\n",
    "import jsonref\n",
    "from azure.ai.agents.models import OpenApiTool, OpenApiAnonymousAuthDetails\n",
    "from dotenv import load_dotenv\n",
    "\n",
    "load_dotenv('../../.env', override=True)"
   ]
  },
  {
   "cell_type": "markdown",
   "id": "81fc3831",
   "metadata": {},
   "source": [
    "## Load and patch OpenAPI spec for Wikipedia Search Tool"
   ]
  },
  {
   "cell_type": "code",
   "execution_count": 3,
   "id": "cd8fa111",
   "metadata": {},
   "outputs": [],
   "source": [
    "with open(\"wikipedia_search_api_openapi_spec.json\", \"r\") as f:\n",
    "    openapi_spec = jsonref.loads(f.read())\n",
    "# Patch the servers attribute to use the runtime API_BASE_URL\n",
    "openapi_spec[\"servers\"] = [ {\"url\": os.environ[\"API_BASE_URL\"]} ]\n",
    "\n",
    "auth = OpenApiAnonymousAuthDetails()\n",
    "wikipedia_tool = OpenApiTool(\n",
    "    name=\"wikipedia_search\",\n",
    "    spec=openapi_spec,\n",
    "    description=\"Search and retrieve information from Wikipedia articles.\",\n",
    "    auth=auth\n",
    ")"
   ]
  },
  {
   "cell_type": "markdown",
   "id": "ea234b8e",
   "metadata": {},
   "source": [
    "## Create Azure AI Project client"
   ]
  },
  {
   "cell_type": "code",
   "execution_count": 4,
   "id": "0fd95574",
   "metadata": {},
   "outputs": [],
   "source": [
    "project_client = AIProjectClient(\n",
    "    endpoint=os.environ[\"AZURE_AI_FOUNDRY_ENDPOINT\"],\n",
    "    credential=DefaultAzureCredential(),\n",
    ")"
   ]
  },
  {
   "cell_type": "markdown",
   "id": "721c8e0a",
   "metadata": {},
   "source": [
    "## Define and create the Wikipedia Research Agent"
   ]
  },
  {
   "cell_type": "code",
   "execution_count": 5,
   "id": "acd09c5a",
   "metadata": {},
   "outputs": [
    {
     "name": "stdout",
     "output_type": "stream",
     "text": [
      "Agent ID: asst_40ugrWZ2LFCA26CfmFuoQk5v\n"
     ]
    }
   ],
   "source": [
    "agent = project_client.agents.create_agent(\n",
    "    model=\"gpt-4.1\",\n",
    "    name=\"wikipedia-research-agent\",\n",
    "    instructions=f\"\"\"# Wikipedia Research Agent System Message\n",
    "\n",
    "You are a focused and efficient research assistant. Your task is to use the Wikipedia Search Tool to research any topic or question provided by the user. For each request, follow these steps:\n",
    "\n",
    "---\n",
    "\n",
    "## 1. Research and Retrieval\n",
    "- Use the Wikipedia Search Tool to search Wikipedia for the most relevant and up-to-date information on the user's topic or question.\n",
    "- Formulate effective queries and refine them as needed to maximize the quality of your findings.\n",
    "\n",
    "---\n",
    "\n",
    "## 2. Key Learnings Output\n",
    "- Summarize your findings as a list of **5 key learnings** (bulleted list).\n",
    "- Each key learning must be detailed, factual, and directly related to the user's topic.\n",
    "- **Attach a source citation** (Wikipedia article URL) to each bullet point, formatted as `[source]`.\n",
    "\n",
    "---\n",
    "\n",
    "## 3. Communication Style\n",
    "- Be clear, neutral, and informative.\n",
    "- Do not speculate or include unsupported information.\n",
    "- If you cannot find sufficient information, state this politely and suggest clarifying the query if possible.\n",
    "\n",
    "---\n",
    "\n",
    "## 4. Constraints\n",
    "- Only use information retrieved via the Wikipedia Search Tool.\n",
    "- Do not include personal opinions or unverified content.\n",
    "- Always provide a source for each key learning.\n",
    "\n",
    "By following these guidelines, you will deliver concise, well-sourced research summaries for any topic or question, strictly using Wikipedia as your information source.\n",
    "\"\"\",\n",
    "    temperature=0.0,\n",
    "    tools=wikipedia_tool.definitions,\n",
    "    headers={\"x-ms-enable-preview\": \"true\"}\n",
    ")\n",
    "agent_id = agent.id\n",
    "print(f\"Agent ID: {agent_id}\")"
   ]
  }
 ],
 "metadata": {
  "kernelspec": {
   "display_name": "Python 3",
   "language": "python",
   "name": "python3"
  },
  "language_info": {
   "codemirror_mode": {
    "name": "ipython",
    "version": 3
   },
   "file_extension": ".py",
   "mimetype": "text/x-python",
   "name": "python",
   "nbconvert_exporter": "python",
   "pygments_lexer": "ipython3",
   "version": "3.11.9"
  }
 },
 "nbformat": 4,
 "nbformat_minor": 5
}
