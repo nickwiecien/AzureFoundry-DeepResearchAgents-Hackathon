{
 "cells": [
  {
   "cell_type": "markdown",
   "id": "8c713734",
   "metadata": {},
   "source": [
    "# Web Research Agent\n",
    "\n",
    "This notebook connects to an existing Azure AI Foundry workspace and instantiates an agent designed to perform web research on any provided topic or question. The agent uses the Bing Grounding Tool to search the web and returns a concise list of 5 key learnings, each with a source citation."
   ]
  },
  {
   "cell_type": "markdown",
   "id": "2ab49736",
   "metadata": {},
   "source": [
    "### Install missing dependencies"
   ]
  },
  {
   "cell_type": "code",
   "execution_count": 1,
   "id": "a4f3aac7",
   "metadata": {},
   "outputs": [],
   "source": [
    "# ! pip install -r ../../requirements.txt"
   ]
  },
  {
   "cell_type": "markdown",
   "id": "68741ebe",
   "metadata": {},
   "source": [
    "### Import required packages"
   ]
  },
  {
   "cell_type": "code",
   "execution_count": 2,
   "id": "a15c5161",
   "metadata": {},
   "outputs": [
    {
     "data": {
      "text/plain": [
       "True"
      ]
     },
     "execution_count": 2,
     "metadata": {},
     "output_type": "execute_result"
    }
   ],
   "source": [
    "import json\n",
    "import os, time\n",
    "from azure.ai.projects import AIProjectClient\n",
    "from azure.identity import DefaultAzureCredential\n",
    "from pathlib import Path\n",
    "from opentelemetry import trace\n",
    "from azure.monitor.opentelemetry import configure_azure_monitor\n",
    "import base64\n",
    "from azure.ai.agents.models import (\n",
    "    AgentEventHandler,\n",
    "    FunctionTool,\n",
    "    MessageDeltaChunk,\n",
    "    RequiredFunctionToolCall,\n",
    "    RunStep,\n",
    "    RunStepStatus,\n",
    "    SubmitToolOutputsAction,\n",
    "    ThreadMessage,\n",
    "    ThreadRun,\n",
    "    ToolOutput,\n",
    "    BingGroundingTool\n",
    ")\n",
    "from typing import Any\n",
    "from dotenv import load_dotenv\n",
    "\n",
    "load_dotenv('../../.env', override=True)"
   ]
  },
  {
   "cell_type": "markdown",
   "id": "7f7da691",
   "metadata": {},
   "source": [
    "### Create connection to Azure AI Foundry"
   ]
  },
  {
   "cell_type": "code",
   "execution_count": 3,
   "id": "993ca657",
   "metadata": {},
   "outputs": [],
   "source": [
    "project_client = AIProjectClient(\n",
    "    endpoint=os.environ[\"AZURE_AI_FOUNDRY_ENDPOINT\"],\n",
    "    credential=DefaultAzureCredential(),\n",
    ")"
   ]
  },
  {
   "cell_type": "markdown",
   "id": "c9f0b4b6",
   "metadata": {},
   "source": [
    "### Create connection to Bing Grounding utility"
   ]
  },
  {
   "cell_type": "code",
   "execution_count": 4,
   "id": "55f64aea",
   "metadata": {},
   "outputs": [],
   "source": [
    "# bing_connection = project_client.connections.get(\n",
    "#     name='rutzscoagents'\n",
    "# )\n",
    "# conn_id = bing_connection.id\n",
    "# Initialize agent bing tool and add the connection id\n",
    "bing = BingGroundingTool(connection_id='rutzscoagents')"
   ]
  },
  {
   "cell_type": "markdown",
   "id": "7a1bda2e",
   "metadata": {},
   "source": [
    "### Define and Create Web Research Agent\n",
    "\n",
    "Note: after creation, you can reference this agent by ID in your FastAPI app"
   ]
  },
  {
   "cell_type": "code",
   "execution_count": null,
   "id": "21950676",
   "metadata": {},
   "outputs": [
    {
     "name": "stdout",
     "output_type": "stream",
     "text": [
      "Agent ID: asst_6xHuTg2SMbJB8XFI7NjHRklw\n"
     ]
    }
   ],
   "source": [
    "agent = project_client.agents.create_agent(\n",
    "    model=\"gpt-4.1\",\n",
    "    name=\"web-research-agent\",\n",
    "    instructions=f\"\"\"# Web Research Agent System Message\n",
    "\n",
    "You are a focused and efficient web research assistant. Your task is to use the Bing Grounding Tool to research any topic or question provided by the user. For each request, follow these steps:\n",
    "\n",
    "---\n",
    "\n",
    "## 1. Research and Retrieval\n",
    "- Use the Bing Grounding Tool to search the web for the most relevant and up-to-date information on the user's topic or question.\n",
    "- Formulate effective queries and refine them as needed to maximize the quality of your findings.\n",
    "\n",
    "---\n",
    "\n",
    "## 2. Key Learnings Output\n",
    "- Summarize your findings as a list of **5 key learnings** (bulleted list).\n",
    "- Each key learning must be detailed, factual, and directly related to the user's topic.\n",
    "- **Attach a source citation** (URL or domain) to each bullet point, formatted as `[source]`.\n",
    "\n",
    "---\n",
    "\n",
    "## 3. Communication Style\n",
    "- Be clear, neutral, and informative.\n",
    "- Do not speculate or include unsupported information.\n",
    "- If you cannot find sufficient information, state this politely and suggest clarifying the query if possible.\n",
    "\n",
    "---\n",
    "\n",
    "## 4. Constraints\n",
    "- Only use information retrieved via the Bing Grounding Tool.\n",
    "- Do not include personal opinions or unverified content.\n",
    "- Always provide a source for each key learning.\n",
    "\n",
    "By following these guidelines, you will deliver concise, well-sourced research summaries for any topic or question.\n",
    "\"\"\",\n",
    "    temperature=0.0,\n",
    "    tools=bing.definitions,\n",
    "    headers={\"x-ms-enable-preview\": \"true\"}\n",
    ")\n",
    "agent_id = agent.id\n",
    "print(f\"Agent ID: {agent_id}\")"
   ]
  }
 ],
 "metadata": {
  "kernelspec": {
   "display_name": "Python 3",
   "language": "python",
   "name": "python3"
  },
  "language_info": {
   "codemirror_mode": {
    "name": "ipython",
    "version": 3
   },
   "file_extension": ".py",
   "mimetype": "text/x-python",
   "name": "python",
   "nbconvert_exporter": "python",
   "pygments_lexer": "ipython3",
   "version": "3.11.9"
  }
 },
 "nbformat": 4,
 "nbformat_minor": 5
}
