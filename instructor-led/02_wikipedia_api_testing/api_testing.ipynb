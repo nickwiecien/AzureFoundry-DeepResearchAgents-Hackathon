{
 "cells": [
  {
   "cell_type": "markdown",
   "id": "76e0a259",
   "metadata": {},
   "source": [
    "# API Smoke Test Notebook\n",
    "\n",
    "This notebook tests the deployed Wikipedia Search API to ensure it is running and responding as expected. It uses the BASE_API_URL from your environment file."
   ]
  },
  {
   "cell_type": "markdown",
   "id": "0848da9b",
   "metadata": {},
   "source": [
    "## Import required packages"
   ]
  },
  {
   "cell_type": "code",
   "execution_count": 7,
   "id": "2bcee12d",
   "metadata": {},
   "outputs": [
    {
     "data": {
      "text/plain": [
       "'https://mmm2025hackapi.purpleplant-785c544a.eastus2.azurecontainerapps.io'"
      ]
     },
     "execution_count": 7,
     "metadata": {},
     "output_type": "execute_result"
    }
   ],
   "source": [
    "import os\n",
    "import requests\n",
    "from dotenv import load_dotenv\n",
    "\n",
    "load_dotenv('../../.env', override=True)\n",
    "BASE_API_URL = os.environ[\"API_BASE_URL\"]\n",
    "BASE_API_URL"
   ]
  },
  {
   "cell_type": "markdown",
   "id": "9cf05ea4",
   "metadata": {},
   "source": [
    "## Test /search/wikipedia endpoint"
   ]
  },
  {
   "cell_type": "code",
   "execution_count": 8,
   "id": "b22bb3ba",
   "metadata": {},
   "outputs": [
    {
     "name": "stdout",
     "output_type": "stream",
     "text": [
      "Status code: 200\n",
      "Response JSON:\n",
      "1. Artificial intelligence - https://en.wikipedia.org/wiki/Artificial_intelligence\n",
      "   Snippet: Artificial intelligence (AI) is the capability of computational systems to perform tasks typically a...\n",
      "2. Artificial general intelligence - https://en.wikipedia.org/wiki/Artificial_general_intelligence\n",
      "   Snippet: Artificial general intelligence (AGI)—sometimes called human‑level intelligence AI—is a type of arti...\n",
      "3. Generative artificial intelligence - https://en.wikipedia.org/wiki/Generative_artificial_intelligence\n",
      "   Snippet: Generative artificial intelligence (Generative AI, GenAI, or GAI) is a subfield of artificial intell...\n"
     ]
    }
   ],
   "source": [
    "# Define test parameters\n",
    "params = {\n",
    "    \"keywords\": \"Artificial Intelligence\",\n",
    "    \"max_results\": 3\n",
    "}\n",
    "\n",
    "# Make the request\n",
    "response = requests.get(f\"{BASE_API_URL}/search/wikipedia\", params=params)\n",
    "\n",
    "print(f\"Status code: {response.status_code}\")\n",
    "try:\n",
    "    data = response.json()\n",
    "    print(\"Response JSON:\")\n",
    "    for i, article in enumerate(data, 1):\n",
    "        print(f\"{i}. {article['title']} - {article['url']}\")\n",
    "        print(f\"   Snippet: {article['snippet'][:100]}...\")\n",
    "except Exception as e:\n",
    "    print(\"Failed to parse JSON response:\", e)\n",
    "    print(response.text)"
   ]
  },
  {
   "cell_type": "markdown",
   "id": "4c7086f7",
   "metadata": {},
   "source": [
    "---\n",
    "\n",
    "If the status code is 200 and the response contains a list of articles with titles, URLs, and snippets, the API is working as expected."
   ]
  }
 ],
 "metadata": {
  "kernelspec": {
   "display_name": "Python 3",
   "language": "python",
   "name": "python3"
  },
  "language_info": {
   "codemirror_mode": {
    "name": "ipython",
    "version": 3
   },
   "file_extension": ".py",
   "mimetype": "text/x-python",
   "name": "python",
   "nbconvert_exporter": "python",
   "pygments_lexer": "ipython3",
   "version": "3.11.9"
  }
 },
 "nbformat": 4,
 "nbformat_minor": 5
}
